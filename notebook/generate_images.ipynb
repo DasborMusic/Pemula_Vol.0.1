{
 "cells": [
  {
   "cell_type": "markdown",
   "metadata": {},
   "source": [
    "# Generate Heavy Metal Style Images\n",
    "This notebook loads prompts from a YAML file and simulates image generation for a heavy metal visual theme."
   ]
  },
  {
   "cell_type": "code",
   "execution_count": null,
   "metadata": {},
   "outputs": [],
   "source": [
    "import yaml\n",
    "from pathlib import Path\n",
    "\n",
    "def load_prompts(path):\n",
    "    with open(path, 'r', encoding='utf-8') as file:\n",
    "        data = yaml.safe_load(file)\n",
    "    return data['prompts']\n",
    "\n",
    "prompts_path = Path('heavy_metal_prompts.yaml')\n",
    "prompts = load_prompts(prompts_path)\n",
    "\n",
    "# Simulasi generate (aslinya akan dipakai model AI untuk render gambar)\n",
    "for i, prompt in enumerate(prompts[:3], 1):\n",
    "    print(f'[{i}] Prompt: {prompt}')"
   ]
  }
 ],
 "metadata": {
  "kernelspec": {
   "display_name": "Python 3",
   "language": "python",
   "name": "python3"
  },
  "language_info": {
   "name": "python",
   "version": "3.9"
  }
 },
 "nbformat": 4,
 "nbformat_minor": 2
}
